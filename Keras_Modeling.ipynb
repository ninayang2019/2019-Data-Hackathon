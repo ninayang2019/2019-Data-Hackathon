{
  "nbformat": 4,
  "nbformat_minor": 0,
  "metadata": {
    "colab": {
      "name": "Keras - Modeling",
      "version": "0.3.2",
      "provenance": [],
      "collapsed_sections": [
        "sHInU7lUh0me",
        "XI7EaSJSIatP"
      ],
      "toc_visible": true
    },
    "kernelspec": {
      "name": "python3",
      "display_name": "Python 3"
    }
  },
  "cells": [
    {
      "metadata": {
        "id": "f5Wb3truedDp",
        "colab_type": "text"
      },
      "cell_type": "markdown",
      "source": [
        "#Ingest"
      ]
    },
    {
      "metadata": {
        "id": "IF4YNhr4WayN",
        "colab_type": "code",
        "colab": {}
      },
      "cell_type": "code",
      "source": [
        "import pandas as pd\n",
        "\n",
        "df = pd.read_excel('2010+v3.xlsx')"
      ],
      "execution_count": 0,
      "outputs": []
    },
    {
      "metadata": {
        "id": "XlX32N26ZLKA",
        "colab_type": "code",
        "outputId": "ed150b65-4a27-4c1e-f4df-2bc71823ad4a",
        "colab": {
          "base_uri": "https://localhost:8080/",
          "height": 722
        }
      },
      "cell_type": "code",
      "source": [
        "df.info()"
      ],
      "execution_count": 0,
      "outputs": [
        {
          "output_type": "stream",
          "text": [
            "<class 'pandas.core.frame.DataFrame'>\n",
            "RangeIndex: 246509 entries, 0 to 246508\n",
            "Data columns (total 37 columns):\n",
            "Patient ID                                 246509 non-null int64\n",
            "Age recode with <1 year olds               246509 non-null object\n",
            "Age at diagnosis                           246509 non-null int64\n",
            "Sex                                        246509 non-null object\n",
            "Race/ethnicity                             246509 non-null object\n",
            "State                                      246509 non-null object\n",
            "Grade                                      246509 non-null object\n",
            "Laterality                                 246509 non-null object\n",
            "Derived AJCC T, 7th ed (2010+)             245970 non-null object\n",
            "Derived AJCC N, 7th ed (2010+)             245970 non-null object\n",
            "Derived AJCC M, 7th ed (2010+)             245970 non-null object\n",
            "CS Tumor Size/Ext Eval (2004+)             246509 non-null int64\n",
            "CS Reg Node Eval (2004+)                   246509 non-null int64\n",
            "CS Mets Eval (2004+)                       246509 non-null int64\n",
            "Regional nodes examined (1988+)            246509 non-null int64\n",
            "Regional nodes positive (1988+)            246509 non-null int64\n",
            "CS mets at DX-bone (2010+)                 246350 non-null object\n",
            "CS mets at DX-brain (2010+)                246337 non-null object\n",
            "CS mets at DX-liver (2010+)                246341 non-null object\n",
            "CS mets at DX-lung (2010+)                 245820 non-null object\n",
            "CS version input current (2004+)           246509 non-null int64\n",
            "CS version input original (2004+)          246509 non-null int64\n",
            "CS version derived (2004+)                 246509 non-null int64\n",
            "RX Summ--Surg Prim Site (1998+)            246509 non-null int64\n",
            "RX Summ--Scope Reg LN Sur (2003+)          246509 non-null object\n",
            "RX Summ--Surg Oth Reg/Dis (2003+)          246509 non-null object\n",
            "Radiation sequence with surgery            246509 non-null object\n",
            "Reason no cancer-directed surgery          246509 non-null object\n",
            "Radiation recode                           246509 non-null object\n",
            "Chemotherapy recode (yes, no/unk)          246509 non-null object\n",
            "Unnamed: 30                                0 non-null float64\n",
            "Survival months                            246509 non-null object\n",
            "Success                                    246509 non-null int64\n",
            "Survival months flag                       246509 non-null object\n",
            "COD to site rec KM                         246509 non-null object\n",
            "Vital status recode (study cutoff used)    246509 non-null object\n",
            "Death                                      246509 non-null int64\n",
            "dtypes: float64(1), int64(13), object(23)\n",
            "memory usage: 69.6+ MB\n"
          ],
          "name": "stdout"
        }
      ]
    },
    {
      "metadata": {
        "id": "RwsUajpKZQHK",
        "colab_type": "code",
        "colab": {}
      },
      "cell_type": "code",
      "source": [
        "df_new = df.astype({\"CS Tumor Size/Ext Eval (2004+)\": object,\n",
        "\"CS Reg Node Eval (2004+)\": object,\n",
        "\"CS Mets Eval (2004+)\": object,\n",
        "\"Regional nodes examined (1988+)\": object,\n",
        "\"Regional nodes positive (1988+)\": object,\n",
        "\"CS version input current (2004+)\": object,\n",
        "\"CS version input original (2004+)\": object,\n",
        "\"CS version derived (2004+)\": object,\n",
        "\"RX Summ--Surg Prim Site (1998+)\": object })\n"
      ],
      "execution_count": 0,
      "outputs": []
    },
    {
      "metadata": {
        "id": "AcPNGG6HagBg",
        "colab_type": "code",
        "colab": {}
      },
      "cell_type": "code",
      "source": [
        "df_new = df_new.drop(columns = ['Unnamed: 30','Survival months flag', 'COD to site rec KM', 'Vital status recode (study cutoff used)','Death','Survival months'])"
      ],
      "execution_count": 0,
      "outputs": []
    },
    {
      "metadata": {
        "id": "4298-fkYaz0x",
        "colab_type": "code",
        "outputId": "96fbd894-d43a-4c40-a32a-fd27864f799f",
        "colab": {
          "base_uri": "https://localhost:8080/",
          "height": 622
        }
      },
      "cell_type": "code",
      "source": [
        "df_new.info()"
      ],
      "execution_count": 0,
      "outputs": [
        {
          "output_type": "stream",
          "text": [
            "<class 'pandas.core.frame.DataFrame'>\n",
            "RangeIndex: 246509 entries, 0 to 246508\n",
            "Data columns (total 31 columns):\n",
            "Patient ID                           246509 non-null int64\n",
            "Age recode with <1 year olds         246509 non-null object\n",
            "Age at diagnosis                     246509 non-null int64\n",
            "Sex                                  246509 non-null object\n",
            "Race/ethnicity                       246509 non-null object\n",
            "State                                246509 non-null object\n",
            "Grade                                246509 non-null object\n",
            "Laterality                           246509 non-null object\n",
            "Derived AJCC T, 7th ed (2010+)       245970 non-null object\n",
            "Derived AJCC N, 7th ed (2010+)       245970 non-null object\n",
            "Derived AJCC M, 7th ed (2010+)       245970 non-null object\n",
            "CS Tumor Size/Ext Eval (2004+)       246509 non-null object\n",
            "CS Reg Node Eval (2004+)             246509 non-null object\n",
            "CS Mets Eval (2004+)                 246509 non-null object\n",
            "Regional nodes examined (1988+)      246509 non-null object\n",
            "Regional nodes positive (1988+)      246509 non-null object\n",
            "CS mets at DX-bone (2010+)           246350 non-null object\n",
            "CS mets at DX-brain (2010+)          246337 non-null object\n",
            "CS mets at DX-liver (2010+)          246341 non-null object\n",
            "CS mets at DX-lung (2010+)           245820 non-null object\n",
            "CS version input current (2004+)     246509 non-null object\n",
            "CS version input original (2004+)    246509 non-null object\n",
            "CS version derived (2004+)           246509 non-null object\n",
            "RX Summ--Surg Prim Site (1998+)      246509 non-null object\n",
            "RX Summ--Scope Reg LN Sur (2003+)    246509 non-null object\n",
            "RX Summ--Surg Oth Reg/Dis (2003+)    246509 non-null object\n",
            "Radiation sequence with surgery      246509 non-null object\n",
            "Reason no cancer-directed surgery    246509 non-null object\n",
            "Radiation recode                     246509 non-null object\n",
            "Chemotherapy recode (yes, no/unk)    246509 non-null object\n",
            "Success                              246509 non-null int64\n",
            "dtypes: int64(3), object(28)\n",
            "memory usage: 58.3+ MB\n"
          ],
          "name": "stdout"
        }
      ]
    },
    {
      "metadata": {
        "id": "9T3J9F0RYsPT",
        "colab_type": "code",
        "outputId": "3af91720-532c-4adc-993f-f932a729e4ec",
        "colab": {
          "base_uri": "https://localhost:8080/",
          "height": 328
        }
      },
      "cell_type": "code",
      "source": [
        "data = pd.get_dummies(df_new)\n",
        "data.head()"
      ],
      "execution_count": 0,
      "outputs": [
        {
          "output_type": "execute_result",
          "data": {
            "text/html": [
              "<div>\n",
              "<style scoped>\n",
              "    .dataframe tbody tr th:only-of-type {\n",
              "        vertical-align: middle;\n",
              "    }\n",
              "\n",
              "    .dataframe tbody tr th {\n",
              "        vertical-align: top;\n",
              "    }\n",
              "\n",
              "    .dataframe thead th {\n",
              "        text-align: right;\n",
              "    }\n",
              "</style>\n",
              "<table border=\"1\" class=\"dataframe\">\n",
              "  <thead>\n",
              "    <tr style=\"text-align: right;\">\n",
              "      <th></th>\n",
              "      <th>Patient ID</th>\n",
              "      <th>Age at diagnosis</th>\n",
              "      <th>Success</th>\n",
              "      <th>Age recode with &lt;1 year olds_00 years</th>\n",
              "      <th>Age recode with &lt;1 year olds_01-04 years</th>\n",
              "      <th>Age recode with &lt;1 year olds_05-09 years</th>\n",
              "      <th>Age recode with &lt;1 year olds_10-14 years</th>\n",
              "      <th>Age recode with &lt;1 year olds_15-19 years</th>\n",
              "      <th>Age recode with &lt;1 year olds_20-24 years</th>\n",
              "      <th>Age recode with &lt;1 year olds_25-29 years</th>\n",
              "      <th>...</th>\n",
              "      <th>Radiation recode_Beam radiation</th>\n",
              "      <th>Radiation recode_Combination of beam with implants or isotopes</th>\n",
              "      <th>Radiation recode_None/Unknown</th>\n",
              "      <th>Radiation recode_Radiation, NOS  method or source not specified</th>\n",
              "      <th>Radiation recode_Radioactive implants</th>\n",
              "      <th>Radiation recode_Radioisotopes</th>\n",
              "      <th>Radiation recode_Recommended, unknown if administered</th>\n",
              "      <th>Radiation recode_Refused</th>\n",
              "      <th>Chemotherapy recode (yes, no/unk)_No/Unknown</th>\n",
              "      <th>Chemotherapy recode (yes, no/unk)_Yes</th>\n",
              "    </tr>\n",
              "  </thead>\n",
              "  <tbody>\n",
              "    <tr>\n",
              "      <th>0</th>\n",
              "      <td>831</td>\n",
              "      <td>69</td>\n",
              "      <td>0</td>\n",
              "      <td>0</td>\n",
              "      <td>0</td>\n",
              "      <td>0</td>\n",
              "      <td>0</td>\n",
              "      <td>0</td>\n",
              "      <td>0</td>\n",
              "      <td>0</td>\n",
              "      <td>...</td>\n",
              "      <td>0</td>\n",
              "      <td>0</td>\n",
              "      <td>1</td>\n",
              "      <td>0</td>\n",
              "      <td>0</td>\n",
              "      <td>0</td>\n",
              "      <td>0</td>\n",
              "      <td>0</td>\n",
              "      <td>1</td>\n",
              "      <td>0</td>\n",
              "    </tr>\n",
              "    <tr>\n",
              "      <th>1</th>\n",
              "      <td>2628</td>\n",
              "      <td>83</td>\n",
              "      <td>1</td>\n",
              "      <td>0</td>\n",
              "      <td>0</td>\n",
              "      <td>0</td>\n",
              "      <td>0</td>\n",
              "      <td>0</td>\n",
              "      <td>0</td>\n",
              "      <td>0</td>\n",
              "      <td>...</td>\n",
              "      <td>0</td>\n",
              "      <td>0</td>\n",
              "      <td>1</td>\n",
              "      <td>0</td>\n",
              "      <td>0</td>\n",
              "      <td>0</td>\n",
              "      <td>0</td>\n",
              "      <td>0</td>\n",
              "      <td>1</td>\n",
              "      <td>0</td>\n",
              "    </tr>\n",
              "    <tr>\n",
              "      <th>2</th>\n",
              "      <td>3108</td>\n",
              "      <td>56</td>\n",
              "      <td>1</td>\n",
              "      <td>0</td>\n",
              "      <td>0</td>\n",
              "      <td>0</td>\n",
              "      <td>0</td>\n",
              "      <td>0</td>\n",
              "      <td>0</td>\n",
              "      <td>0</td>\n",
              "      <td>...</td>\n",
              "      <td>0</td>\n",
              "      <td>0</td>\n",
              "      <td>1</td>\n",
              "      <td>0</td>\n",
              "      <td>0</td>\n",
              "      <td>0</td>\n",
              "      <td>0</td>\n",
              "      <td>0</td>\n",
              "      <td>1</td>\n",
              "      <td>0</td>\n",
              "    </tr>\n",
              "    <tr>\n",
              "      <th>3</th>\n",
              "      <td>3673</td>\n",
              "      <td>74</td>\n",
              "      <td>0</td>\n",
              "      <td>0</td>\n",
              "      <td>0</td>\n",
              "      <td>0</td>\n",
              "      <td>0</td>\n",
              "      <td>0</td>\n",
              "      <td>0</td>\n",
              "      <td>0</td>\n",
              "      <td>...</td>\n",
              "      <td>1</td>\n",
              "      <td>0</td>\n",
              "      <td>0</td>\n",
              "      <td>0</td>\n",
              "      <td>0</td>\n",
              "      <td>0</td>\n",
              "      <td>0</td>\n",
              "      <td>0</td>\n",
              "      <td>1</td>\n",
              "      <td>0</td>\n",
              "    </tr>\n",
              "    <tr>\n",
              "      <th>4</th>\n",
              "      <td>4963</td>\n",
              "      <td>64</td>\n",
              "      <td>0</td>\n",
              "      <td>0</td>\n",
              "      <td>0</td>\n",
              "      <td>0</td>\n",
              "      <td>0</td>\n",
              "      <td>0</td>\n",
              "      <td>0</td>\n",
              "      <td>0</td>\n",
              "      <td>...</td>\n",
              "      <td>0</td>\n",
              "      <td>0</td>\n",
              "      <td>1</td>\n",
              "      <td>0</td>\n",
              "      <td>0</td>\n",
              "      <td>0</td>\n",
              "      <td>0</td>\n",
              "      <td>0</td>\n",
              "      <td>1</td>\n",
              "      <td>0</td>\n",
              "    </tr>\n",
              "  </tbody>\n",
              "</table>\n",
              "<p>5 rows × 346 columns</p>\n",
              "</div>"
            ],
            "text/plain": [
              "   Patient ID  Age at diagnosis  Success  \\\n",
              "0         831                69        0   \n",
              "1        2628                83        1   \n",
              "2        3108                56        1   \n",
              "3        3673                74        0   \n",
              "4        4963                64        0   \n",
              "\n",
              "   Age recode with <1 year olds_00 years  \\\n",
              "0                                      0   \n",
              "1                                      0   \n",
              "2                                      0   \n",
              "3                                      0   \n",
              "4                                      0   \n",
              "\n",
              "   Age recode with <1 year olds_01-04 years  \\\n",
              "0                                         0   \n",
              "1                                         0   \n",
              "2                                         0   \n",
              "3                                         0   \n",
              "4                                         0   \n",
              "\n",
              "   Age recode with <1 year olds_05-09 years  \\\n",
              "0                                         0   \n",
              "1                                         0   \n",
              "2                                         0   \n",
              "3                                         0   \n",
              "4                                         0   \n",
              "\n",
              "   Age recode with <1 year olds_10-14 years  \\\n",
              "0                                         0   \n",
              "1                                         0   \n",
              "2                                         0   \n",
              "3                                         0   \n",
              "4                                         0   \n",
              "\n",
              "   Age recode with <1 year olds_15-19 years  \\\n",
              "0                                         0   \n",
              "1                                         0   \n",
              "2                                         0   \n",
              "3                                         0   \n",
              "4                                         0   \n",
              "\n",
              "   Age recode with <1 year olds_20-24 years  \\\n",
              "0                                         0   \n",
              "1                                         0   \n",
              "2                                         0   \n",
              "3                                         0   \n",
              "4                                         0   \n",
              "\n",
              "   Age recode with <1 year olds_25-29 years  \\\n",
              "0                                         0   \n",
              "1                                         0   \n",
              "2                                         0   \n",
              "3                                         0   \n",
              "4                                         0   \n",
              "\n",
              "                   ...                    Radiation recode_Beam radiation  \\\n",
              "0                  ...                                                  0   \n",
              "1                  ...                                                  0   \n",
              "2                  ...                                                  0   \n",
              "3                  ...                                                  1   \n",
              "4                  ...                                                  0   \n",
              "\n",
              "   Radiation recode_Combination of beam with implants or isotopes  \\\n",
              "0                                                  0                \n",
              "1                                                  0                \n",
              "2                                                  0                \n",
              "3                                                  0                \n",
              "4                                                  0                \n",
              "\n",
              "   Radiation recode_None/Unknown  \\\n",
              "0                              1   \n",
              "1                              1   \n",
              "2                              1   \n",
              "3                              0   \n",
              "4                              1   \n",
              "\n",
              "   Radiation recode_Radiation, NOS  method or source not specified  \\\n",
              "0                                                  0                 \n",
              "1                                                  0                 \n",
              "2                                                  0                 \n",
              "3                                                  0                 \n",
              "4                                                  0                 \n",
              "\n",
              "   Radiation recode_Radioactive implants  Radiation recode_Radioisotopes  \\\n",
              "0                                      0                               0   \n",
              "1                                      0                               0   \n",
              "2                                      0                               0   \n",
              "3                                      0                               0   \n",
              "4                                      0                               0   \n",
              "\n",
              "   Radiation recode_Recommended, unknown if administered  \\\n",
              "0                                                  0       \n",
              "1                                                  0       \n",
              "2                                                  0       \n",
              "3                                                  0       \n",
              "4                                                  0       \n",
              "\n",
              "   Radiation recode_Refused  Chemotherapy recode (yes, no/unk)_No/Unknown  \\\n",
              "0                         0                                             1   \n",
              "1                         0                                             1   \n",
              "2                         0                                             1   \n",
              "3                         0                                             1   \n",
              "4                         0                                             1   \n",
              "\n",
              "   Chemotherapy recode (yes, no/unk)_Yes  \n",
              "0                                      0  \n",
              "1                                      0  \n",
              "2                                      0  \n",
              "3                                      0  \n",
              "4                                      0  \n",
              "\n",
              "[5 rows x 346 columns]"
            ]
          },
          "metadata": {
            "tags": []
          },
          "execution_count": 31
        }
      ]
    },
    {
      "metadata": {
        "id": "vA7oyCVVZCDu",
        "colab_type": "code",
        "outputId": "49bc0dc0-398f-4adc-eddd-544337c13d4a",
        "colab": {
          "base_uri": "https://localhost:8080/",
          "height": 34
        }
      },
      "cell_type": "code",
      "source": [
        "#'Success' is our target variable so we keep it as original, which is int\n",
        "\n",
        "X = data.iloc[:,1:345]\n",
        "X = X.drop(columns = ['Success']).values\n",
        "y = df_new['Success'].values\n",
        "type(y)\n",
        "type(X)"
      ],
      "execution_count": 0,
      "outputs": [
        {
          "output_type": "execute_result",
          "data": {
            "text/plain": [
              "numpy.ndarray"
            ]
          },
          "metadata": {
            "tags": []
          },
          "execution_count": 32
        }
      ]
    },
    {
      "metadata": {
        "id": "-0kenYx2_7EK",
        "colab_type": "text"
      },
      "cell_type": "markdown",
      "source": [
        "#Keras"
      ]
    },
    {
      "metadata": {
        "id": "fMTAXd9p_8YT",
        "colab_type": "code",
        "colab": {}
      },
      "cell_type": "code",
      "source": [
        "import numpy as np\n",
        "from keras.layers import Dense\n",
        "from keras.models import Sequential"
      ],
      "execution_count": 0,
      "outputs": []
    },
    {
      "metadata": {
        "id": "gJjLjWePDqxo",
        "colab_type": "code",
        "colab": {}
      },
      "cell_type": "code",
      "source": [
        "from keras.utils import to_categorical\n",
        "\n",
        "target = to_categorical(df_new['Success'])"
      ],
      "execution_count": 0,
      "outputs": []
    },
    {
      "metadata": {
        "id": "eDzBLQFMAUFW",
        "colab_type": "code",
        "colab": {}
      },
      "cell_type": "code",
      "source": [
        "#predictors = X.as_matrix()\n",
        "#target = to_categorical(data.shot_result)\n",
        "predictors = X\n",
        "#target = y\n",
        "n_cols = predictors.shape[1]"
      ],
      "execution_count": 0,
      "outputs": []
    },
    {
      "metadata": {
        "id": "3rOBO7hfAxWD",
        "colab_type": "code",
        "outputId": "cc1a8e9b-dc77-4d07-f9d0-3e74e13a3ff3",
        "colab": {
          "base_uri": "https://localhost:8080/",
          "height": 171
        }
      },
      "cell_type": "code",
      "source": [
        "model = Sequential()\n",
        "model.add(Dense(343, activation='relu', input_shape = (n_cols,),bias=True))\n",
        "model.add(Dense(300, activation='relu',bias=True))\n",
        "model.add(Dense(200, activation='relu',bias=True))\n",
        "model.add(Dense(2, activation='softmax',bias=True))\n",
        "model.compile(optimizer='adam', loss='categorical_crossentropy',metrics=['accuracy'])"
      ],
      "execution_count": 0,
      "outputs": [
        {
          "output_type": "stream",
          "text": [
            "/usr/local/lib/python3.6/dist-packages/ipykernel_launcher.py:2: UserWarning: Update your `Dense` call to the Keras 2 API: `Dense(343, activation=\"relu\", input_shape=(343,), use_bias=True)`\n",
            "  \n",
            "/usr/local/lib/python3.6/dist-packages/ipykernel_launcher.py:3: UserWarning: Update your `Dense` call to the Keras 2 API: `Dense(300, activation=\"relu\", use_bias=True)`\n",
            "  This is separate from the ipykernel package so we can avoid doing imports until\n",
            "/usr/local/lib/python3.6/dist-packages/ipykernel_launcher.py:4: UserWarning: Update your `Dense` call to the Keras 2 API: `Dense(200, activation=\"relu\", use_bias=True)`\n",
            "  after removing the cwd from sys.path.\n",
            "/usr/local/lib/python3.6/dist-packages/ipykernel_launcher.py:5: UserWarning: Update your `Dense` call to the Keras 2 API: `Dense(2, activation=\"softmax\", use_bias=True)`\n",
            "  \"\"\"\n"
          ],
          "name": "stderr"
        }
      ]
    },
    {
      "metadata": {
        "id": "KCQqWRw1CmLv",
        "colab_type": "code",
        "outputId": "7a832e84-e3cc-4baa-81c1-53bd3c8d106f",
        "colab": {
          "base_uri": "https://localhost:8080/",
          "height": 218
        }
      },
      "cell_type": "code",
      "source": [
        "from keras.callbacks import EarlyStopping\n",
        "early_stopping_monitor = EarlyStopping(patience=2)\n",
        "model.fit(predictors, target, validation_split=0.3,shuffle=True,\n",
        "          epochs=20,callbacks = [early_stopping_monitor])"
      ],
      "execution_count": 0,
      "outputs": [
        {
          "output_type": "stream",
          "text": [
            "Train on 172556 samples, validate on 73953 samples\n",
            "Epoch 1/20\n",
            "172556/172556 [==============================] - 43s 248us/step - loss: 0.1123 - acc: 0.9574 - val_loss: 0.0096 - val_acc: 0.9981\n",
            "Epoch 2/20\n",
            "172556/172556 [==============================] - 42s 244us/step - loss: 0.0985 - acc: 0.9618 - val_loss: 0.0082 - val_acc: 0.9984\n",
            "Epoch 3/20\n",
            "172556/172556 [==============================] - 43s 249us/step - loss: 0.0959 - acc: 0.9626 - val_loss: 0.0079 - val_acc: 0.9983\n",
            "Epoch 4/20\n",
            "172556/172556 [==============================] - 45s 258us/step - loss: 0.0946 - acc: 0.9630 - val_loss: 0.0106 - val_acc: 0.9983\n",
            "Epoch 5/20\n",
            "172556/172556 [==============================] - 43s 251us/step - loss: 0.0935 - acc: 0.9634 - val_loss: 0.0084 - val_acc: 0.9984\n"
          ],
          "name": "stdout"
        },
        {
          "output_type": "execute_result",
          "data": {
            "text/plain": [
              "<keras.callbacks.History at 0x7fd73bf84978>"
            ]
          },
          "metadata": {
            "tags": []
          },
          "execution_count": 37
        }
      ]
    },
    {
      "metadata": {
        "id": "sQpUXf4ICPk0",
        "colab_type": "code",
        "colab": {}
      },
      "cell_type": "code",
      "source": [
        "#from keras.models import load_model\n",
        "#model.save('model_file.h5')\n",
        "#my_model = load_model('my_model.h5')\n",
        "#predictions = my_model.predict(data_to_predict_with)\n",
        "#probability_true = predictions[:,1]"
      ],
      "execution_count": 0,
      "outputs": []
    },
    {
      "metadata": {
        "id": "sHInU7lUh0me",
        "colab_type": "text"
      },
      "cell_type": "markdown",
      "source": [
        "# Neural Net Stuff"
      ]
    },
    {
      "metadata": {
        "id": "iv2tsI_yh8sp",
        "colab_type": "code",
        "outputId": "28e6f6b1-c6c7-407c-ad34-383b8300a5c3",
        "colab": {
          "base_uri": "https://localhost:8080/",
          "height": 50
        }
      },
      "cell_type": "code",
      "source": [
        "import numpy as np\n",
        "import torch\n",
        "import torch.nn as nn\n",
        "import torch.nn.functional as F\n",
        "import torch.optim as optim\n",
        "import torch.utils.data as torch_data\n",
        "\n",
        "# Load data arrays\n",
        "data_x = X\n",
        "data_y = y\n",
        "assert data_x.ndim == 2 and data_y.ndim == 1\n",
        "assert len(data_x) == len(data_y)\n",
        "\n",
        "# Standardize data: zero mean, unit variance\n",
        "# stds = data_x.std(axis=0)\n",
        "# stds[stds == 0] = 1\n",
        "# data_x = (data_x - data_x.mean(axis=0)) / stds\n",
        "\n",
        "# Shuffle\n",
        "perm = np.random.permutation(len(data_x))\n",
        "data_x = data_x[perm]\n",
        "data_y = data_y[perm]\n",
        "\n",
        "\n",
        "print(f'Loaded {len(data_x)} examples with dimension {data_x.shape[1]}')\n",
        "pos_ratio = data_y.mean()\n",
        "data_pw = data_y * ((1-pos_ratio)/pos_ratio - 1) + 1\n",
        "print(f'Ratio of positive labels: {pos_ratio}')"
      ],
      "execution_count": 0,
      "outputs": [
        {
          "output_type": "stream",
          "text": [
            "Loaded 246509 examples with dimension 343\n",
            "Ratio of positive labels: 0.04568190208065426\n"
          ],
          "name": "stdout"
        }
      ]
    },
    {
      "metadata": {
        "id": "BVjLyX9hhYku",
        "colab_type": "code",
        "outputId": "a7869a14-b4c8-445f-f6f3-6c18ee12d2f6",
        "colab": {
          "base_uri": "https://localhost:8080/",
          "height": 353
        }
      },
      "cell_type": "code",
      "source": [
        "# Hyperparams\n",
        "BS = 256\n",
        "LR = 0.005\n",
        "EPOCHS = 2\n",
        "USE_PW = False\n",
        "\n",
        "# Convert to Pytorch tensors\n",
        "train_size = int(len(data_x) * 0.8)\n",
        "train_x = torch.from_numpy(data_x[:train_size]).float()\n",
        "train_y = torch.from_numpy(data_y[:train_size])\n",
        "train_pw = torch.from_numpy(data_pw[:train_size])\n",
        "test_x = torch.from_numpy(data_x[train_size:]).float()\n",
        "test_y = torch.from_numpy(data_y[train_size:])\n",
        "train_dataset = torch_data.TensorDataset(train_x, train_y, train_pw)\n",
        "train_loader = torch_data.DataLoader(train_dataset, batch_size=BS, shuffle=True)\n",
        "\n",
        "# Model definition\n",
        "d_in = data_x.shape[1]\n",
        "print('Input dim: {}'.format(d_in))\n",
        "\n",
        "class Model(nn.Module):\n",
        "  def __init__(self, layer_sizes):\n",
        "    super(Model, self).__init__()\n",
        "    self.layer_sizes = layer_sizes\n",
        "    d_in = layer_sizes[0]\n",
        "    layers = []\n",
        "    for i, size in enumerate(layer_sizes[1:]):\n",
        "      layers.append(nn.Linear(layer_sizes[i], size))\n",
        "      layers.append(nn.ReLU())\n",
        "    layers = layers[:-1]\n",
        "    self.hidden = nn.Sequential(*layers)\n",
        "    self.logits = nn.Sequential(nn.ReLU(), nn.Linear(layer_sizes[-1], 1))\n",
        "      \n",
        "  def forward(self, x):\n",
        "    hidden = self.hidden(x)\n",
        "    logits = self.logits(hidden)\n",
        "    return logits, hidden\n",
        "    \n",
        "model = Model([d_in, 300, 200, 100])\n",
        "print(model)\n",
        "print(f'Model parameters: {sum(np.prod(p.shape) for p in model.parameters())}')\n",
        "\n",
        "# Main loop\n",
        "optimizer = optim.Adam(model.parameters(), lr=LR)\n",
        "step = 0\n",
        "ep = 0\n",
        "losses = []\n",
        "for ep in range(EPOCHS):\n",
        "  ep += 1\n",
        "  for bx, by, bpw in train_loader:\n",
        "    step += 1\n",
        "    logits, _ = model(bx)\n",
        "    bpw = bpw.float() if USE_PW else None\n",
        "    loss = F.binary_cross_entropy_with_logits(logits.view(-1), target=by.float(), pos_weight=bpw)\n",
        "    losses.append(loss.item())\n",
        "    model.zero_grad()\n",
        "    loss.backward()\n",
        "    optimizer.step()\n",
        "    if step % 500 == 0:\n",
        "      with torch.no_grad():\n",
        "        pred = (torch.sigmoid(model(bx)[0].view(-1)) >= 0.5).long()\n",
        "        acc = (pred == by).float().mean()\n",
        "      print('ep {:03d} step {:04d} loss {:.5f} acc {:.5f}'.format(ep, step, loss, acc))\n",
        "\n",
        "\n",
        "pred = (torch.sigmoid(model(train_x)[0].view(-1)) >= 0.5).long()\n",
        "acc_tr = (pred == train_y).float().mean()\n",
        "pred = (torch.sigmoid(model(test_x)[0].view(-1)) >= 0.5).long()\n",
        "acc_te = (pred == test_y).float().mean()\n",
        "print('Final train/test accuracy: {} / {}'.format(acc_tr, acc_te))\n",
        "print(f'Constant model train/test accuracy: {1-train_y.float().mean()} / {1-test_y.float().mean()}')"
      ],
      "execution_count": 0,
      "outputs": [
        {
          "output_type": "stream",
          "text": [
            "Input dim: 343\n",
            "Model(\n",
            "  (hidden): Sequential(\n",
            "    (0): Linear(in_features=343, out_features=300, bias=True)\n",
            "    (1): ReLU()\n",
            "    (2): Linear(in_features=300, out_features=200, bias=True)\n",
            "    (3): ReLU()\n",
            "    (4): Linear(in_features=200, out_features=100, bias=True)\n",
            "  )\n",
            "  (logits): Sequential(\n",
            "    (0): ReLU()\n",
            "    (1): Linear(in_features=100, out_features=1, bias=True)\n",
            "  )\n",
            ")\n",
            "Model parameters: 183601\n",
            "ep 001 step 0500 loss 0.09339 acc 0.97656\n",
            "ep 002 step 1000 loss 0.07705 acc 0.96875\n",
            "ep 002 step 1500 loss 0.08066 acc 0.96875\n",
            "Final train/test accuracy: 0.9736114740371704 / 0.9732262492179871\n",
            "Constant model train/test accuracy: 0.9542612433433533 / 0.9545454382896423\n"
          ],
          "name": "stdout"
        }
      ]
    },
    {
      "metadata": {
        "id": "gK-RAFBEikJK",
        "colab_type": "code",
        "colab": {}
      },
      "cell_type": "code",
      "source": [
        "#recall & precision\n",
        "\n"
      ],
      "execution_count": 0,
      "outputs": []
    },
    {
      "metadata": {
        "id": "V74UGehbrTYA",
        "colab_type": "code",
        "outputId": "4a843fa1-3ccb-4111-8075-fa2ed0c74fb1",
        "colab": {
          "base_uri": "https://localhost:8080/",
          "height": 521
        }
      },
      "cell_type": "code",
      "source": [
        "# Functions to use the model\n",
        "def run_model(x):\n",
        "  with torch.no_grad():\n",
        "    logits, hidden = model(torch.from_numpy(x).float())\n",
        "    probs = torch.sigmoid(logits)\n",
        "  return probs.cpu().numpy(), hidden.cpu().numpy()\n",
        "\n",
        "# To use this function, you have to pass in a numpy array of shape (N, 343)\n",
        "# where N is the number of examples you wish to run the model on.\n",
        "# The function returns a tuple\n",
        "#   - first item is a numpy array of size (N,) containing probabilities of\n",
        "#     each example being classifed as 1\n",
        "#   - second item is a numpy array of size (N, 100) containing 100-dimensional\n",
        "#     vector representations of the examples\n",
        "\n",
        "# Example usage on the first 30 examples from X:\n",
        "probs, embeddings = run_model(X[:30])\n",
        "print(probs)"
      ],
      "execution_count": 0,
      "outputs": [
        {
          "output_type": "stream",
          "text": [
            "[[1.49196506e-01]\n",
            " [3.96303564e-01]\n",
            " [1.72661677e-01]\n",
            " [1.80213764e-01]\n",
            " [3.67187918e-03]\n",
            " [1.17838554e-01]\n",
            " [3.18174250e-03]\n",
            " [5.76077819e-01]\n",
            " [7.24707767e-02]\n",
            " [7.43293613e-02]\n",
            " [6.85246438e-02]\n",
            " [4.17429879e-02]\n",
            " [1.24780566e-01]\n",
            " [3.83898094e-02]\n",
            " [1.57523200e-01]\n",
            " [1.32143095e-01]\n",
            " [1.65149480e-01]\n",
            " [4.61285822e-02]\n",
            " [2.88831979e-01]\n",
            " [8.83801699e-01]\n",
            " [4.21957672e-02]\n",
            " [5.89555919e-01]\n",
            " [6.51137382e-02]\n",
            " [1.47801101e-01]\n",
            " [1.20255694e-01]\n",
            " [5.58663085e-02]\n",
            " [5.07218421e-01]\n",
            " [6.52865618e-02]\n",
            " [3.58890793e-05]\n",
            " [3.46511863e-02]]\n"
          ],
          "name": "stdout"
        }
      ]
    },
    {
      "metadata": {
        "id": "-iQ6C2b4o0xq",
        "colab_type": "code",
        "colab": {}
      },
      "cell_type": "code",
      "source": [
        ""
      ],
      "execution_count": 0,
      "outputs": []
    },
    {
      "metadata": {
        "id": "X7ejgYb5goaz",
        "colab_type": "text"
      },
      "cell_type": "markdown",
      "source": [
        "#When new patients come in"
      ]
    },
    {
      "metadata": {
        "id": "I3-vtZ03gm7l",
        "colab_type": "code",
        "colab": {}
      },
      "cell_type": "code",
      "source": [
        "df_example = pd.read_excel('2010+v3-example.xlsx')"
      ],
      "execution_count": 0,
      "outputs": []
    },
    {
      "metadata": {
        "colab_type": "code",
        "id": "IItSPf_NuBT6",
        "colab": {}
      },
      "cell_type": "code",
      "source": [
        "df_example.info()"
      ],
      "execution_count": 0,
      "outputs": []
    },
    {
      "metadata": {
        "colab_type": "code",
        "id": "zfpK9j1DuBUD",
        "colab": {}
      },
      "cell_type": "code",
      "source": [
        "df_example_new = df.astype({\"CS Tumor Size/Ext Eval (2004+)\": object,\n",
        "\"CS Reg Node Eval (2004+)\": object,\n",
        "\"CS Mets Eval (2004+)\": object,\n",
        "\"Regional nodes examined (1988+)\": object,\n",
        "\"Regional nodes positive (1988+)\": object,\n",
        "\"CS version input current (2004+)\": object,\n",
        "\"CS version input original (2004+)\": object,\n",
        "\"CS version derived (2004+)\": object,\n",
        "\"RX Summ--Surg Prim Site (1998+)\": object })\n"
      ],
      "execution_count": 0,
      "outputs": []
    },
    {
      "metadata": {
        "colab_type": "code",
        "id": "I3YCa38zuBUI",
        "colab": {}
      },
      "cell_type": "code",
      "source": [
        "df_example_new = df_example_new.drop(columns = ['Unnamed: 30','Survival months flag', 'COD to site rec KM', 'Vital status recode (study cutoff used)','Death','Survival months'])"
      ],
      "execution_count": 0,
      "outputs": []
    },
    {
      "metadata": {
        "colab_type": "code",
        "id": "eB4d_DMXuBUM",
        "colab": {}
      },
      "cell_type": "code",
      "source": [
        "df_example_new.info()"
      ],
      "execution_count": 0,
      "outputs": []
    },
    {
      "metadata": {
        "colab_type": "code",
        "outputId": "8d0e173f-5b33-43d8-decc-b07e4529f99e",
        "id": "ZKbuZqMTuBUT",
        "colab": {
          "base_uri": "https://localhost:8080/",
          "height": 328
        }
      },
      "cell_type": "code",
      "source": [
        "data = pd.get_dummies(df_example_new)\n",
        "data.head()"
      ],
      "execution_count": 0,
      "outputs": [
        {
          "output_type": "execute_result",
          "data": {
            "text/html": [
              "<div>\n",
              "<style scoped>\n",
              "    .dataframe tbody tr th:only-of-type {\n",
              "        vertical-align: middle;\n",
              "    }\n",
              "\n",
              "    .dataframe tbody tr th {\n",
              "        vertical-align: top;\n",
              "    }\n",
              "\n",
              "    .dataframe thead th {\n",
              "        text-align: right;\n",
              "    }\n",
              "</style>\n",
              "<table border=\"1\" class=\"dataframe\">\n",
              "  <thead>\n",
              "    <tr style=\"text-align: right;\">\n",
              "      <th></th>\n",
              "      <th>Patient ID</th>\n",
              "      <th>Age at diagnosis</th>\n",
              "      <th>Success</th>\n",
              "      <th>Age recode with &lt;1 year olds_00 years</th>\n",
              "      <th>Age recode with &lt;1 year olds_01-04 years</th>\n",
              "      <th>Age recode with &lt;1 year olds_05-09 years</th>\n",
              "      <th>Age recode with &lt;1 year olds_10-14 years</th>\n",
              "      <th>Age recode with &lt;1 year olds_15-19 years</th>\n",
              "      <th>Age recode with &lt;1 year olds_20-24 years</th>\n",
              "      <th>Age recode with &lt;1 year olds_25-29 years</th>\n",
              "      <th>...</th>\n",
              "      <th>Radiation recode_Beam radiation</th>\n",
              "      <th>Radiation recode_Combination of beam with implants or isotopes</th>\n",
              "      <th>Radiation recode_None/Unknown</th>\n",
              "      <th>Radiation recode_Radiation, NOS  method or source not specified</th>\n",
              "      <th>Radiation recode_Radioactive implants</th>\n",
              "      <th>Radiation recode_Radioisotopes</th>\n",
              "      <th>Radiation recode_Recommended, unknown if administered</th>\n",
              "      <th>Radiation recode_Refused</th>\n",
              "      <th>Chemotherapy recode (yes, no/unk)_No/Unknown</th>\n",
              "      <th>Chemotherapy recode (yes, no/unk)_Yes</th>\n",
              "    </tr>\n",
              "  </thead>\n",
              "  <tbody>\n",
              "    <tr>\n",
              "      <th>0</th>\n",
              "      <td>831</td>\n",
              "      <td>69</td>\n",
              "      <td>0</td>\n",
              "      <td>0</td>\n",
              "      <td>0</td>\n",
              "      <td>0</td>\n",
              "      <td>0</td>\n",
              "      <td>0</td>\n",
              "      <td>0</td>\n",
              "      <td>0</td>\n",
              "      <td>...</td>\n",
              "      <td>0</td>\n",
              "      <td>0</td>\n",
              "      <td>1</td>\n",
              "      <td>0</td>\n",
              "      <td>0</td>\n",
              "      <td>0</td>\n",
              "      <td>0</td>\n",
              "      <td>0</td>\n",
              "      <td>1</td>\n",
              "      <td>0</td>\n",
              "    </tr>\n",
              "    <tr>\n",
              "      <th>1</th>\n",
              "      <td>2628</td>\n",
              "      <td>83</td>\n",
              "      <td>1</td>\n",
              "      <td>0</td>\n",
              "      <td>0</td>\n",
              "      <td>0</td>\n",
              "      <td>0</td>\n",
              "      <td>0</td>\n",
              "      <td>0</td>\n",
              "      <td>0</td>\n",
              "      <td>...</td>\n",
              "      <td>0</td>\n",
              "      <td>0</td>\n",
              "      <td>1</td>\n",
              "      <td>0</td>\n",
              "      <td>0</td>\n",
              "      <td>0</td>\n",
              "      <td>0</td>\n",
              "      <td>0</td>\n",
              "      <td>1</td>\n",
              "      <td>0</td>\n",
              "    </tr>\n",
              "    <tr>\n",
              "      <th>2</th>\n",
              "      <td>3108</td>\n",
              "      <td>56</td>\n",
              "      <td>1</td>\n",
              "      <td>0</td>\n",
              "      <td>0</td>\n",
              "      <td>0</td>\n",
              "      <td>0</td>\n",
              "      <td>0</td>\n",
              "      <td>0</td>\n",
              "      <td>0</td>\n",
              "      <td>...</td>\n",
              "      <td>0</td>\n",
              "      <td>0</td>\n",
              "      <td>1</td>\n",
              "      <td>0</td>\n",
              "      <td>0</td>\n",
              "      <td>0</td>\n",
              "      <td>0</td>\n",
              "      <td>0</td>\n",
              "      <td>1</td>\n",
              "      <td>0</td>\n",
              "    </tr>\n",
              "    <tr>\n",
              "      <th>3</th>\n",
              "      <td>3673</td>\n",
              "      <td>74</td>\n",
              "      <td>0</td>\n",
              "      <td>0</td>\n",
              "      <td>0</td>\n",
              "      <td>0</td>\n",
              "      <td>0</td>\n",
              "      <td>0</td>\n",
              "      <td>0</td>\n",
              "      <td>0</td>\n",
              "      <td>...</td>\n",
              "      <td>1</td>\n",
              "      <td>0</td>\n",
              "      <td>0</td>\n",
              "      <td>0</td>\n",
              "      <td>0</td>\n",
              "      <td>0</td>\n",
              "      <td>0</td>\n",
              "      <td>0</td>\n",
              "      <td>1</td>\n",
              "      <td>0</td>\n",
              "    </tr>\n",
              "    <tr>\n",
              "      <th>4</th>\n",
              "      <td>4963</td>\n",
              "      <td>64</td>\n",
              "      <td>0</td>\n",
              "      <td>0</td>\n",
              "      <td>0</td>\n",
              "      <td>0</td>\n",
              "      <td>0</td>\n",
              "      <td>0</td>\n",
              "      <td>0</td>\n",
              "      <td>0</td>\n",
              "      <td>...</td>\n",
              "      <td>0</td>\n",
              "      <td>0</td>\n",
              "      <td>1</td>\n",
              "      <td>0</td>\n",
              "      <td>0</td>\n",
              "      <td>0</td>\n",
              "      <td>0</td>\n",
              "      <td>0</td>\n",
              "      <td>1</td>\n",
              "      <td>0</td>\n",
              "    </tr>\n",
              "  </tbody>\n",
              "</table>\n",
              "<p>5 rows × 346 columns</p>\n",
              "</div>"
            ],
            "text/plain": [
              "   Patient ID  Age at diagnosis  Success  \\\n",
              "0         831                69        0   \n",
              "1        2628                83        1   \n",
              "2        3108                56        1   \n",
              "3        3673                74        0   \n",
              "4        4963                64        0   \n",
              "\n",
              "   Age recode with <1 year olds_00 years  \\\n",
              "0                                      0   \n",
              "1                                      0   \n",
              "2                                      0   \n",
              "3                                      0   \n",
              "4                                      0   \n",
              "\n",
              "   Age recode with <1 year olds_01-04 years  \\\n",
              "0                                         0   \n",
              "1                                         0   \n",
              "2                                         0   \n",
              "3                                         0   \n",
              "4                                         0   \n",
              "\n",
              "   Age recode with <1 year olds_05-09 years  \\\n",
              "0                                         0   \n",
              "1                                         0   \n",
              "2                                         0   \n",
              "3                                         0   \n",
              "4                                         0   \n",
              "\n",
              "   Age recode with <1 year olds_10-14 years  \\\n",
              "0                                         0   \n",
              "1                                         0   \n",
              "2                                         0   \n",
              "3                                         0   \n",
              "4                                         0   \n",
              "\n",
              "   Age recode with <1 year olds_15-19 years  \\\n",
              "0                                         0   \n",
              "1                                         0   \n",
              "2                                         0   \n",
              "3                                         0   \n",
              "4                                         0   \n",
              "\n",
              "   Age recode with <1 year olds_20-24 years  \\\n",
              "0                                         0   \n",
              "1                                         0   \n",
              "2                                         0   \n",
              "3                                         0   \n",
              "4                                         0   \n",
              "\n",
              "   Age recode with <1 year olds_25-29 years  \\\n",
              "0                                         0   \n",
              "1                                         0   \n",
              "2                                         0   \n",
              "3                                         0   \n",
              "4                                         0   \n",
              "\n",
              "                   ...                    Radiation recode_Beam radiation  \\\n",
              "0                  ...                                                  0   \n",
              "1                  ...                                                  0   \n",
              "2                  ...                                                  0   \n",
              "3                  ...                                                  1   \n",
              "4                  ...                                                  0   \n",
              "\n",
              "   Radiation recode_Combination of beam with implants or isotopes  \\\n",
              "0                                                  0                \n",
              "1                                                  0                \n",
              "2                                                  0                \n",
              "3                                                  0                \n",
              "4                                                  0                \n",
              "\n",
              "   Radiation recode_None/Unknown  \\\n",
              "0                              1   \n",
              "1                              1   \n",
              "2                              1   \n",
              "3                              0   \n",
              "4                              1   \n",
              "\n",
              "   Radiation recode_Radiation, NOS  method or source not specified  \\\n",
              "0                                                  0                 \n",
              "1                                                  0                 \n",
              "2                                                  0                 \n",
              "3                                                  0                 \n",
              "4                                                  0                 \n",
              "\n",
              "   Radiation recode_Radioactive implants  Radiation recode_Radioisotopes  \\\n",
              "0                                      0                               0   \n",
              "1                                      0                               0   \n",
              "2                                      0                               0   \n",
              "3                                      0                               0   \n",
              "4                                      0                               0   \n",
              "\n",
              "   Radiation recode_Recommended, unknown if administered  \\\n",
              "0                                                  0       \n",
              "1                                                  0       \n",
              "2                                                  0       \n",
              "3                                                  0       \n",
              "4                                                  0       \n",
              "\n",
              "   Radiation recode_Refused  Chemotherapy recode (yes, no/unk)_No/Unknown  \\\n",
              "0                         0                                             1   \n",
              "1                         0                                             1   \n",
              "2                         0                                             1   \n",
              "3                         0                                             1   \n",
              "4                         0                                             1   \n",
              "\n",
              "   Chemotherapy recode (yes, no/unk)_Yes  \n",
              "0                                      0  \n",
              "1                                      0  \n",
              "2                                      0  \n",
              "3                                      0  \n",
              "4                                      0  \n",
              "\n",
              "[5 rows x 346 columns]"
            ]
          },
          "metadata": {
            "tags": []
          },
          "execution_count": 17
        }
      ]
    },
    {
      "metadata": {
        "colab_type": "code",
        "id": "kzRXwyv_uBUd",
        "colab": {}
      },
      "cell_type": "code",
      "source": [
        "#'Success' is our target variable so we keep it as original, which is int\n",
        "\n",
        "X2 = data.iloc[:12,1:345]\n",
        "X2 = X2.drop(columns = ['Success']).values"
      ],
      "execution_count": 0,
      "outputs": []
    },
    {
      "metadata": {
        "id": "u5JqRwFRFdvH",
        "colab_type": "text"
      },
      "cell_type": "markdown",
      "source": [
        "##Keras"
      ]
    },
    {
      "metadata": {
        "colab_type": "code",
        "id": "T3DHYj0lFcfD",
        "colab": {}
      },
      "cell_type": "code",
      "source": [
        "#from keras.models import load_model\n",
        "#model.save('model_file.h5')\n",
        "#my_model = load_model('my_model.h5')\n",
        "predictions = model.predict(X2)\n",
        "probability_true = predictions[:,1]"
      ],
      "execution_count": 0,
      "outputs": []
    },
    {
      "metadata": {
        "id": "xmZX96_mGbDw",
        "colab_type": "code",
        "outputId": "e11988b9-772a-4f08-cba4-047205725057",
        "colab": {
          "base_uri": "https://localhost:8080/",
          "height": 67
        }
      },
      "cell_type": "code",
      "source": [
        "probability_true"
      ],
      "execution_count": 0,
      "outputs": [
        {
          "output_type": "execute_result",
          "data": {
            "text/plain": [
              "array([0.16710007, 0.47241092, 0.24219926, 0.18924911, 0.00951957,\n",
              "       0.14080495, 0.0034028 , 0.6318934 , 0.05778279, 0.07003548,\n",
              "       0.09544357, 0.05857369], dtype=float32)"
            ]
          },
          "metadata": {
            "tags": []
          },
          "execution_count": 39
        }
      ]
    },
    {
      "metadata": {
        "id": "XI7EaSJSIatP",
        "colab_type": "text"
      },
      "cell_type": "markdown",
      "source": [
        "##Another Package"
      ]
    },
    {
      "metadata": {
        "id": "EsnHxjYhubzn",
        "colab_type": "code",
        "outputId": "06aa7024-194e-4861-9240-29cc162dd0c1",
        "colab": {
          "base_uri": "https://localhost:8080/",
          "height": 198
        }
      },
      "cell_type": "code",
      "source": [
        "probs, embeddings = run_model(X2)\n",
        "print(probs)\n",
        "print(embeddings)"
      ],
      "execution_count": 0,
      "outputs": [
        {
          "output_type": "error",
          "ename": "NameError",
          "evalue": "ignored",
          "traceback": [
            "\u001b[0;31m---------------------------------------------------------------------------\u001b[0m",
            "\u001b[0;31mNameError\u001b[0m                                 Traceback (most recent call last)",
            "\u001b[0;32m<ipython-input-1-87bfa417e632>\u001b[0m in \u001b[0;36m<module>\u001b[0;34m()\u001b[0m\n\u001b[0;32m----> 1\u001b[0;31m \u001b[0mprobs\u001b[0m\u001b[0;34m,\u001b[0m \u001b[0membeddings\u001b[0m \u001b[0;34m=\u001b[0m \u001b[0mrun_model\u001b[0m\u001b[0;34m(\u001b[0m\u001b[0mX\u001b[0m\u001b[0;34m)\u001b[0m\u001b[0;34m\u001b[0m\u001b[0;34m\u001b[0m\u001b[0m\n\u001b[0m\u001b[1;32m      2\u001b[0m \u001b[0mprint\u001b[0m\u001b[0;34m(\u001b[0m\u001b[0mprobs\u001b[0m\u001b[0;34m)\u001b[0m\u001b[0;34m\u001b[0m\u001b[0;34m\u001b[0m\u001b[0m\n\u001b[1;32m      3\u001b[0m \u001b[0mprint\u001b[0m\u001b[0;34m(\u001b[0m\u001b[0membeddings\u001b[0m\u001b[0;34m)\u001b[0m\u001b[0;34m\u001b[0m\u001b[0;34m\u001b[0m\u001b[0m\n",
            "\u001b[0;31mNameError\u001b[0m: name 'run_model' is not defined"
          ]
        }
      ]
    }
  ]
}